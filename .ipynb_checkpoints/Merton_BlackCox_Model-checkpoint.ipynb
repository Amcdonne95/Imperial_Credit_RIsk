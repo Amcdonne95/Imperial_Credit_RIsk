{
 "cells": [
  {
   "cell_type": "code",
   "execution_count": 1,
   "metadata": {},
   "outputs": [
    {
     "data": {
      "text/html": [
       "<style>.container { width:98% !important; }</style>"
      ],
      "text/plain": [
       "<IPython.core.display.HTML object>"
      ]
     },
     "metadata": {},
     "output_type": "display_data"
    }
   ],
   "source": [
    "from IPython.core.display import display, HTML\n",
    "display(HTML(\"<style>.container { width:98% !important; }</style>\"))"
   ]
  },
  {
   "cell_type": "code",
   "execution_count": 74,
   "metadata": {},
   "outputs": [],
   "source": [
    "import pandas as pd\n",
    "import numpy as np\n",
    "import plotly\n",
    "import plotly.plotly as py\n",
    "import plotly.graph_objs as go\n",
    "import matplotlib.pyplot as plt\n",
    "from plotly import tools\n",
    "import scipy.stats as sp\n",
    "import matplotlib.pyplot as plt\n",
    "import seaborn as sns\n",
    "%matplotlib inline"
   ]
  },
  {
   "cell_type": "code",
   "execution_count": 24,
   "metadata": {},
   "outputs": [],
   "source": [
    "apiKey = 'lQg24SpLGpWSL3Yn35VS'\n",
    "plotly.tools.set_credentials_file(username='amcdonne', api_key=apiKey)\n",
    "plotly.tools.set_config_file(world_readable=False, sharing='private')"
   ]
  },
  {
   "cell_type": "markdown",
   "metadata": {},
   "source": [
    "# (i) Firm Value"
   ]
  },
  {
   "cell_type": "markdown",
   "metadata": {},
   "source": [
    "### (a) Simulate the value of the firm 250,000 times over a 20 year period using the Merton Model"
   ]
  },
  {
   "cell_type": "code",
   "execution_count": 35,
   "metadata": {},
   "outputs": [],
   "source": [
    "def merton_model(V, K, sigma, T, dt, iRate, num_paths):\n",
    "    num_periods = int(T*dt**-1)\n",
    "    #Creates a matrix filled with zeros; Rows: num_paths, Columns: num_periods\n",
    "    asset_value = np.zeros((num_periods + 1, int(num_paths)))\n",
    "    asset_value[0] = V\n",
    "    for t in range(1, num_periods+1):\n",
    "        if t > 120:\n",
    "            sigma = .25\n",
    "        asset_value[t] = asset_value[t-1]*np.exp((iRate -.5*sigma**2)*dt +sigma*np.random.randn(num_paths))\n",
    "    return asset_value"
   ]
  },
  {
   "cell_type": "code",
   "execution_count": 36,
   "metadata": {},
   "outputs": [],
   "source": [
    "simulated_asset_values = merton_model(V=100, K=80, sigma=.15, T=20, dt=1/12, iRate=0.031, num_paths=250000)"
   ]
  },
  {
   "cell_type": "code",
   "execution_count": 70,
   "metadata": {
    "collapsed": true
   },
   "outputs": [
    {
     "name": "stderr",
     "output_type": "stream",
     "text": [
      "C:\\Users\\austi\\Anaconda\\lib\\site-packages\\IPython\\core\\display.py:689: UserWarning:\n",
      "\n",
      "Consider using IPython.display.IFrame instead\n",
      "\n"
     ]
    },
    {
     "data": {
      "text/html": [
       "<iframe id=\"igraph\" scrolling=\"no\" style=\"border:none;\" seamless=\"seamless\" src=\"https://plot.ly/~amcdonne/85.embed\" height=\"525px\" width=\"100%\"></iframe>"
      ],
      "text/plain": [
       "<plotly.tools.PlotlyDisplay object>"
      ]
     },
     "execution_count": 70,
     "metadata": {},
     "output_type": "execute_result"
    }
   ],
   "source": [
    "#np.random.randint(250000)\n",
    "\n",
    "trace0 = go.Scatter(\n",
    "    y = simulated_asset_values[:,np.random.randint(250000)],\n",
    "    mode = 'lines',\n",
    "    name = 'Path 1'\n",
    ")\n",
    "trace1 = go.Scatter(\n",
    "    y = simulated_asset_values[:,np.random.randint(250000)],\n",
    "    mode = 'lines',\n",
    "    name = 'Path 2'\n",
    ")\n",
    "trace2 = go.Scatter(\n",
    "    y = simulated_asset_values[:,np.random.randint(250000)],\n",
    "    mode = 'lines',\n",
    "    name = 'Path 3'\n",
    ")\n",
    "trace3 = go.Scatter(\n",
    "    y = simulated_asset_values[:,np.random.randint(250000)],\n",
    "    mode = 'lines',\n",
    "    name = 'Path 4'\n",
    ")\n",
    "trace4 = go.Scatter(\n",
    "    y = simulated_asset_values[:,np.random.randint(250000)],\n",
    "    mode = 'lines',\n",
    "    name = 'Path 5'\n",
    ")\n",
    "data = [trace0, trace1, trace2, trace3, trace4]\n",
    "layout = dict(title = 'Asset Value Simulation',\n",
    "              xaxis = dict(title = 'Time Period in months'),\n",
    "              yaxis = dict(title = 'Asset Value'),\n",
    "              )\n",
    "\n",
    "fig = dict(data=data, layout=layout)\n",
    "\n",
    "py.iplot(fig, filename='Credit-Risk-Merton_Monte_Carlo')"
   ]
  },
  {
   "cell_type": "markdown",
   "metadata": {},
   "source": [
    "### (b) Plot Residual Firm Values"
   ]
  },
  {
   "cell_type": "code",
   "execution_count": null,
   "metadata": {},
   "outputs": [],
   "source": [
    "# Was originally trying to separate all of the defaluted and non defaulted paths from any point in time\n",
    "#np array (rows, columns); we want to get rid of all the columns where any row is less than 80\n",
    "#not_defaulted = simulated_asset_values > 80\n",
    "#np.sum(not_defaulted, axis=1)\n",
    "#not_defaulted[:,5]\n",
    "\n",
    "residual_firm_value = simulated_asset_values - 80\n",
    "data = [go.Histogram(x=residual_firm_value)]\n",
    "layout = dict(title = 'Asset Values at T Histogram',\n",
    "              xaxis = dict(title = 'Number of observations'),\n",
    "              yaxis = dict(title = 'Asset Value'),\n",
    "              )\n",
    "\n",
    "fig = dict(data=data, layout=layout)\n",
    "\n",
    "py.iplot(fig, filename='Credit-Risk-Merton_Distribution')"
   ]
  },
  {
   "cell_type": "code",
   "execution_count": null,
   "metadata": {},
   "outputs": [],
   "source": [
    "sns.distplot(residual_firm_value, hist=False, rug=True);"
   ]
  },
  {
   "cell_type": "code",
   "execution_count": 78,
   "metadata": {},
   "outputs": [
    {
     "data": {
      "text/plain": [
       "(250000,)"
      ]
     },
     "execution_count": 78,
     "metadata": {},
     "output_type": "execute_result"
    }
   ],
   "source": [
    "simulated_asset_values[-1,:].shape"
   ]
  },
  {
   "cell_type": "code",
   "execution_count": 17,
   "metadata": {},
   "outputs": [],
   "source": [
    "#print(sp.norm.ppf(0.05))\n",
    "#print(sp.norm.pdf(-1.6448536269514729))"
   ]
  }
 ],
 "metadata": {
  "kernelspec": {
   "display_name": "Python 3",
   "language": "python",
   "name": "python3"
  },
  "language_info": {
   "codemirror_mode": {
    "name": "ipython",
    "version": 3
   },
   "file_extension": ".py",
   "mimetype": "text/x-python",
   "name": "python",
   "nbconvert_exporter": "python",
   "pygments_lexer": "ipython3",
   "version": "3.6.6"
  },
  "toc": {
   "base_numbering": 1,
   "nav_menu": {},
   "number_sections": true,
   "sideBar": true,
   "skip_h1_title": false,
   "title_cell": "Table of Contents",
   "title_sidebar": "Contents",
   "toc_cell": false,
   "toc_position": {},
   "toc_section_display": true,
   "toc_window_display": false
  }
 },
 "nbformat": 4,
 "nbformat_minor": 2
}
