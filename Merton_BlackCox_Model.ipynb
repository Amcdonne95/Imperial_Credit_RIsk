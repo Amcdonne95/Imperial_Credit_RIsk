{
 "cells": [
  {
   "cell_type": "code",
   "execution_count": 1,
   "metadata": {},
   "outputs": [
    {
     "data": {
      "text/html": [
       "<style>.container { width:98% !important; }</style>"
      ],
      "text/plain": [
       "<IPython.core.display.HTML object>"
      ]
     },
     "metadata": {},
     "output_type": "display_data"
    }
   ],
   "source": [
    "from IPython.core.display import display, HTML\n",
    "display(HTML(\"<style>.container { width:98% !important; }</style>\"))"
   ]
  },
  {
   "cell_type": "code",
   "execution_count": 1,
   "metadata": {},
   "outputs": [],
   "source": [
    "import pandas as pd\n",
    "import numpy as np\n",
    "import plotly\n",
    "import plotly.plotly as py\n",
    "import plotly.graph_objs as go\n",
    "import matplotlib.pyplot as plt\n",
    "from plotly import tools\n",
    "import scipy.stats as sp\n",
    "import matplotlib.pyplot as plt\n",
    "import seaborn as sns\n",
    "%matplotlib inline"
   ]
  },
  {
   "cell_type": "code",
   "execution_count": 2,
   "metadata": {},
   "outputs": [],
   "source": [
    "apiKey = 'lQg24SpLGpWSL3Yn35VS'\n",
    "plotly.tools.set_credentials_file(username='amcdonne', api_key=apiKey)\n",
    "plotly.tools.set_config_file(world_readable=False, sharing='private')"
   ]
  },
  {
   "cell_type": "markdown",
   "metadata": {},
   "source": [
    "# (i) Firm Value"
   ]
  },
  {
   "cell_type": "markdown",
   "metadata": {},
   "source": [
    "### (a) Simulate the value of the firm 250,000 times over a 20 year period using the Merton Model"
   ]
  },
  {
   "cell_type": "code",
   "execution_count": 3,
   "metadata": {},
   "outputs": [],
   "source": [
    "def merton_model(V, K, sigma, T, dt, iRate, num_paths):\n",
    "    num_periods = int(T*dt**-1)\n",
    "    #Creates a matrix filled with zeros; Rows: num_paths, Columns: num_periods\n",
    "    asset_value = np.zeros((num_periods + 1, int(num_paths)))\n",
    "    asset_value[0] = V\n",
    "    for t in range(1, num_periods+1):\n",
    "        if t > 120:\n",
    "            sigma = .25\n",
    "        # The stochastic equation for simulating the firm value\n",
    "        asset_value[t] = asset_value[t-1]*np.exp((iRate -.5*sigma**2)*dt +sigma*np.random.randn(num_paths))\n",
    "    return asset_value"
   ]
  },
  {
   "cell_type": "code",
   "execution_count": 4,
   "metadata": {},
   "outputs": [],
   "source": [
    "simulated_asset_values = merton_model(V=100, K=80, sigma=.15, T=20, dt=1/12, iRate=0.031, num_paths=250000)"
   ]
  },
  {
   "cell_type": "code",
   "execution_count": 5,
   "metadata": {
    "collapsed": true
   },
   "outputs": [
    {
     "name": "stderr",
     "output_type": "stream",
     "text": [
      "C:\\Users\\austi\\Anaconda\\lib\\site-packages\\IPython\\core\\display.py:689: UserWarning:\n",
      "\n",
      "Consider using IPython.display.IFrame instead\n",
      "\n"
     ]
    },
    {
     "data": {
      "text/html": [
       "<iframe id=\"igraph\" scrolling=\"no\" style=\"border:none;\" seamless=\"seamless\" src=\"https://plot.ly/~amcdonne/85.embed\" height=\"525px\" width=\"100%\"></iframe>"
      ],
      "text/plain": [
       "<plotly.tools.PlotlyDisplay object>"
      ]
     },
     "execution_count": 5,
     "metadata": {},
     "output_type": "execute_result"
    }
   ],
   "source": [
    "#np.random.randint(250000)\n",
    "\n",
    "trace0 = go.Scatter(\n",
    "    y = simulated_asset_values[:,np.random.randint(250000)],\n",
    "    mode = 'lines',\n",
    "    name = 'Path 1'\n",
    ")\n",
    "trace1 = go.Scatter(\n",
    "    y = simulated_asset_values[:,np.random.randint(250000)],\n",
    "    mode = 'lines',\n",
    "    name = 'Path 2'\n",
    ")\n",
    "trace2 = go.Scatter(\n",
    "    y = simulated_asset_values[:,np.random.randint(250000)],\n",
    "    mode = 'lines',\n",
    "    name = 'Path 3'\n",
    ")\n",
    "trace3 = go.Scatter(\n",
    "    y = simulated_asset_values[:,np.random.randint(250000)],\n",
    "    mode = 'lines',\n",
    "    name = 'Path 4'\n",
    ")\n",
    "trace4 = go.Scatter(\n",
    "    y = simulated_asset_values[:,np.random.randint(250000)],\n",
    "    mode = 'lines',\n",
    "    name = 'Path 5'\n",
    ")\n",
    "data = [trace0, trace1, trace2, trace3, trace4]\n",
    "layout = dict(title = 'Asset Value Simulation',\n",
    "              xaxis = dict(title = 'Time Period in months'),\n",
    "              yaxis = dict(title = 'Asset Value'),\n",
    "              )\n",
    "\n",
    "fig = dict(data=data, layout=layout)\n",
    "\n",
    "py.iplot(fig, filename='Credit-Risk-Merton_Monte_Carlo')"
   ]
  },
  {
   "cell_type": "markdown",
   "metadata": {},
   "source": [
    "### (b) Plot Residual Firm Values"
   ]
  },
  {
   "cell_type": "code",
   "execution_count": 6,
   "metadata": {},
   "outputs": [],
   "source": [
    "residual_firm_value = simulated_asset_values - 80"
   ]
  },
  {
   "cell_type": "code",
   "execution_count": 13,
   "metadata": {},
   "outputs": [],
   "source": [
    "# Was originally trying to separate all of the defaluted and non defaulted paths from any point in time\n",
    "#np array (rows, columns); we want to get rid of all the columns where any row is less than 80\n",
    "#not_defaulted = simulated_asset_values > 80\n",
    "#np.sum(not_defaulted, axis=1)\n",
    "#not_defaulted[:,5]\n",
    "data = [go.Histogram(x=residual_firm_value[-1,:])]\n",
    "layout = dict(title = 'Asset Values at T Histogram',\n",
    "              xaxis = dict(title = 'Number of observations'),\n",
    "              yaxis = dict(title = 'Asset Value'),\n",
    "              )\n",
    "\n",
    "fig = dict(data=data, layout=layout)\n",
    "\n",
    "#py.iplot(fig, filename='Credit-Risk-Merton_Distribution')"
   ]
  },
  {
   "cell_type": "code",
   "execution_count": 11,
   "metadata": {},
   "outputs": [
    {
     "name": "stderr",
     "output_type": "stream",
     "text": [
      "C:\\Users\\austi\\Anaconda\\lib\\site-packages\\scipy\\stats\\stats.py:1713: FutureWarning:\n",
      "\n",
      "Using a non-tuple sequence for multidimensional indexing is deprecated; use `arr[tuple(seq)]` instead of `arr[seq]`. In the future this will be interpreted as an array index, `arr[np.array(seq)]`, which will result either in an error or a different result.\n",
      "\n"
     ]
    },
    {
     "data": {
      "image/png": "[encoded data removed]",
      "text/plain": [
       "<Figure size 432x288 with 1 Axes>"
      ]
     },
     "metadata": {
      "needs_background": "light"
     },
     "output_type": "display_data"
    }
   ],
   "source": [
    "sns.distplot(residual_firm_value[-1,:], hist=False, rug=True);"
   ]
  },
  {
   "cell_type": "markdown",
   "metadata": {},
   "source": [
    "### (c) Default Probability @ T"
   ]
  },
  {
   "cell_type": "code",
   "execution_count": 42,
   "metadata": {},
   "outputs": [],
   "source": [
    "def default_probability(V_0, K, sigma, T, iRate):\n",
    "    d1 = (np.log(V_0/K) + (iRate + .5*sigma**2)*T)/ (sigma*np.sqrt(T))\n",
    "    d2 = d1 - sigma*np.sqrt(T)\n",
    "    print(sp.norm.pdf(d1))\n",
    "    print(sp.norm.pdf(d2))\n",
    "    print(sp.norm.pdf(-d2))\n",
    "    equity_0 = V_0*sp.norm.cdf(d1) - K*np.exp(-iRate*T)*sp.norm.cdf(d2)\n",
    "    return ('Call Option Price: ' + str(round(equity_0, 2)),'Probabilty of Default @ T: ' + str(round(sp.norm.cdf(-d2)*100, 2)) + '%')"
   ]
  },
  {
   "cell_type": "code",
   "execution_count": 43,
   "metadata": {},
   "outputs": [
    {
     "name": "stdout",
     "output_type": "stream",
     "text": [
      "0.16844992942261527\n",
      "0.3914203718134209\n",
      "0.3914203718134209\n"
     ]
    },
    {
     "data": {
      "text/plain": [
       "('Call Option Price: 65.7', 'Probabilty of Default @ T: 42.27%')"
      ]
     },
     "execution_count": 43,
     "metadata": {},
     "output_type": "execute_result"
    }
   ],
   "source": [
    "default_probability(V_0=100, K=80, sigma=.25, T=20, iRate=0.031)"
   ]
  },
  {
   "cell_type": "markdown",
   "metadata": {},
   "source": [
    "### (d) Black Cox Model: Stopping time of default"
   ]
  },
  {
   "cell_type": "code",
   "execution_count": null,
   "metadata": {},
   "outputs": [],
   "source": []
  }
 ],
 "metadata": {
  "kernelspec": {
   "display_name": "Python 3",
   "language": "python",
   "name": "python3"
  },
  "language_info": {
   "codemirror_mode": {
    "name": "ipython",
    "version": 3
   },
   "file_extension": ".py",
   "mimetype": "text/x-python",
   "name": "python",
   "nbconvert_exporter": "python",
   "pygments_lexer": "ipython3",
   "version": "3.6.6"
  },
  "toc": {
   "base_numbering": 1,
   "nav_menu": {},
   "number_sections": true,
   "sideBar": true,
   "skip_h1_title": false,
   "title_cell": "Table of Contents",
   "title_sidebar": "Contents",
   "toc_cell": false,
   "toc_position": {},
   "toc_section_display": true,
   "toc_window_display": false
  }
 },
 "nbformat": 4,
 "nbformat_minor": 2
}
